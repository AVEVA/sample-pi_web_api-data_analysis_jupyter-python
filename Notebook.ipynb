{
 "cells": [
  {
   "cell_type": "markdown",
   "metadata": {},
   "source": [
    "# Connect to PI Web API and SLTC database and create dataframe"
   ]
  },
  {
   "cell_type": "markdown",
   "metadata": {},
   "source": [
    "# Develop initial model using obvious predictors"
   ]
  },
  {
   "cell_type": "code",
   "execution_count": 1,
   "metadata": {},
   "outputs": [],
   "source": [
    "import json\n",
    "import getpass\n",
    "import requests\n",
    "import pandas as pd\n",
    "import numpy as np\n",
    "import urllib3\n",
    "import datetime\n",
    "import dateutil.parser\n",
    "import sklearn\n",
    "import matplotlib\n",
    "import types\n",
    "import uuid\n",
    "import io\n",
    "\n",
    "urllib3.disable_warnings()\n",
    "from requests.auth import HTTPBasicAuth\n",
    "\n",
    "from sklearn import linear_model\n",
    "from sklearn.model_selection import train_test_split \n",
    "from sklearn import neighbors\n",
    "from matplotlib import pyplot as plt"
   ]
  },
  {
   "cell_type": "code",
   "execution_count": 2,
   "metadata": {
    "scrolled": true
   },
   "outputs": [
    {
     "data": {
      "text/html": [
       "<div>\n",
       "<style scoped>\n",
       "    .dataframe tbody tr th:only-of-type {\n",
       "        vertical-align: middle;\n",
       "    }\n",
       "\n",
       "    .dataframe tbody tr th {\n",
       "        vertical-align: top;\n",
       "    }\n",
       "\n",
       "    .dataframe thead th {\n",
       "        text-align: right;\n",
       "    }\n",
       "</style>\n",
       "<table border=\"1\" class=\"dataframe\">\n",
       "  <thead>\n",
       "    <tr style=\"text-align: right;\">\n",
       "      <th></th>\n",
       "      <th>VAVCO Startup</th>\n",
       "      <th>Setpoint Offset at start time</th>\n",
       "      <th>% Cooling at VAV Start</th>\n",
       "      <th>IsMonday</th>\n",
       "      <th>Duration</th>\n",
       "      <th>Day of Week</th>\n",
       "      <th>Outside Relative Humidity at VAV Start</th>\n",
       "      <th>Outside Air Temperature at VAV Start</th>\n",
       "    </tr>\n",
       "  </thead>\n",
       "  <tbody>\n",
       "    <tr>\n",
       "      <th>0</th>\n",
       "      <td>VAVCO startup - VAVCO 4-15 - 2020-03-26 03:51:...</td>\n",
       "      <td>1.0</td>\n",
       "      <td>20.399990</td>\n",
       "      <td>0</td>\n",
       "      <td>14.983333</td>\n",
       "      <td>3</td>\n",
       "      <td>76.271141</td>\n",
       "      <td>43.070553</td>\n",
       "    </tr>\n",
       "    <tr>\n",
       "      <th>1</th>\n",
       "      <td>VAVCO startup - VAVCO 4-03 - 2020-03-26 03:51:...</td>\n",
       "      <td>1.0</td>\n",
       "      <td>19.816669</td>\n",
       "      <td>0</td>\n",
       "      <td>14.983333</td>\n",
       "      <td>3</td>\n",
       "      <td>76.270699</td>\n",
       "      <td>43.070583</td>\n",
       "    </tr>\n",
       "    <tr>\n",
       "      <th>2</th>\n",
       "      <td>VAVCO startup - VAVCO 6-09 - 2020-03-26 04:21:...</td>\n",
       "      <td>1.0</td>\n",
       "      <td>19.850000</td>\n",
       "      <td>0</td>\n",
       "      <td>14.900000</td>\n",
       "      <td>3</td>\n",
       "      <td>80.403786</td>\n",
       "      <td>41.943401</td>\n",
       "    </tr>\n",
       "    <tr>\n",
       "      <th>3</th>\n",
       "      <td>VAVCO startup - VAVCO 3-10 - 2020-03-26 05:51:...</td>\n",
       "      <td>2.5</td>\n",
       "      <td>38.949989</td>\n",
       "      <td>0</td>\n",
       "      <td>45.000000</td>\n",
       "      <td>3</td>\n",
       "      <td>80.150864</td>\n",
       "      <td>41.070553</td>\n",
       "    </tr>\n",
       "    <tr>\n",
       "      <th>4</th>\n",
       "      <td>VAVCO startup - VAVCO 3-09 - 2020-03-26 05:51:...</td>\n",
       "      <td>3.5</td>\n",
       "      <td>51.683311</td>\n",
       "      <td>0</td>\n",
       "      <td>75.000000</td>\n",
       "      <td>3</td>\n",
       "      <td>80.150780</td>\n",
       "      <td>41.070557</td>\n",
       "    </tr>\n",
       "  </tbody>\n",
       "</table>\n",
       "</div>"
      ],
      "text/plain": [
       "                                       VAVCO Startup  \\\n",
       "0  VAVCO startup - VAVCO 4-15 - 2020-03-26 03:51:...   \n",
       "1  VAVCO startup - VAVCO 4-03 - 2020-03-26 03:51:...   \n",
       "2  VAVCO startup - VAVCO 6-09 - 2020-03-26 04:21:...   \n",
       "3  VAVCO startup - VAVCO 3-10 - 2020-03-26 05:51:...   \n",
       "4  VAVCO startup - VAVCO 3-09 - 2020-03-26 05:51:...   \n",
       "\n",
       "   Setpoint Offset at start time  % Cooling at VAV Start  IsMonday   Duration  \\\n",
       "0                            1.0               20.399990         0  14.983333   \n",
       "1                            1.0               19.816669         0  14.983333   \n",
       "2                            1.0               19.850000         0  14.900000   \n",
       "3                            2.5               38.949989         0  45.000000   \n",
       "4                            3.5               51.683311         0  75.000000   \n",
       "\n",
       "   Day of Week  Outside Relative Humidity at VAV Start  \\\n",
       "0            3                               76.271141   \n",
       "1            3                               76.270699   \n",
       "2            3                               80.403786   \n",
       "3            3                               80.150864   \n",
       "4            3                               80.150780   \n",
       "\n",
       "   Outside Air Temperature at VAV Start  \n",
       "0                             43.070553  \n",
       "1                             43.070583  \n",
       "2                             41.943401  \n",
       "3                             41.070553  \n",
       "4                             41.070557  "
      ]
     },
     "execution_count": 2,
     "metadata": {},
     "output_type": "execute_result"
    }
   ],
   "source": [
    "# This cell does most of the data obtaining and cleanup work. It first connects to the PI System via PI Web API \n",
    "# using basic/kerberos authentication where in it gets maximum 1000 eventframes which fit our criteria. \n",
    "\n",
    "\n",
    "\"\"\" Create API call security method\n",
    "        @param security_method string:  security method to use:  basic or kerberos\n",
    "        @param user_name string: The user's credentials name\n",
    "        @param user_password string: The user's credentials password\n",
    "\"\"\"\n",
    "def read_config():\n",
    "    with open('test_config.json') as c:\n",
    "        config = json.load(c)\n",
    "    return config\n",
    "        \n",
    "def call_security_method(security_method, user_name, user_password):\n",
    "    \n",
    "    if security_method.lower() == 'basic':\n",
    "        security_auth = HTTPBasicAuth(user_name, user_password)\n",
    "        \n",
    "    return security_auth\n",
    "\n",
    "\"\"\" Method to send HTTP GET requests\n",
    "        @param query:  query string to execute\n",
    "        Also uses the test_config.json file to read the username and password for Basic Authentication\n",
    "\"\"\"\n",
    "def get(query):\n",
    "    \n",
    "    data = read_config()\n",
    "    username = data['Username']\n",
    "    password = data['Password']\n",
    "    securitymethod = data.get('AuthType', 'basic')\n",
    "    verify_ssl = data.get('VerifySSL', True)\n",
    "    \n",
    "    security_auth = call_security_method(securitymethod, username, password)\n",
    "    response = requests.get(query, auth=security_auth, verify=verify_ssl)\n",
    "    return response\n",
    "\n",
    "\"\"\" Method to send HTTP POST requests\n",
    "        @param query:  query string to execute\n",
    "        @param body: body of the request \n",
    "        Also uses the test_config.json file to read the username and password for Basic Authentication\n",
    "\"\"\"\n",
    "def post(query, body):\n",
    "    \n",
    "    header = {\n",
    "        'content-type': 'application/json',\n",
    "        'X-Requested-With':'XmlHttpRequest'\n",
    "    }\n",
    "    \n",
    "    data = read_config()\n",
    "    username = data['Username']\n",
    "    password = data['Password']\n",
    "    securitymethod = data.get('AuthType', 'basic')\n",
    "    verify_ssl = data.get('VerifySSL', True)\n",
    "    \n",
    "    security_auth = call_security_method(securitymethod, username, password)\n",
    "    response = requests.post(query, auth=security_auth, verify=verify_ssl, json=body, headers=header)\n",
    "    return response\n",
    "\n",
    "\"\"\" Method to send HTTP DELETE requests\n",
    "        @param query:  query string to execute\n",
    "        Also uses the test_config.json file to read the username and password for Basic Authentication\n",
    "\"\"\"\n",
    "def delete(query):\n",
    "    data = read_config()\n",
    "    username = data['Username']\n",
    "    password = data['Password']\n",
    "    securitymethod = data.get('AuthType', 'basic')\n",
    "    verify_ssl = data.get('VerifySSL', True)\n",
    "\n",
    "    security_auth = call_security_method(securitymethod, username, password)\n",
    "    response = requests.delete(query, auth=security_auth, verify=verify_ssl)\n",
    "    return response\n",
    "\n",
    "\"\"\" Method to get the database web ID of a given database path\n",
    "        @param path: path of the database. More info can be found here: https://your-server/piwebapi/help/topics/path-syntax\n",
    "\"\"\"\n",
    "def getDatabaseWebID(path):\n",
    "    data = read_config()\n",
    "    piwebapi_url = data['Resource']\n",
    "    getDatabaseQuery = piwebapi_url + \"/assetdatabases?path=\" + path\n",
    "    database = json.loads(get(getDatabaseQuery).text)\n",
    "    return database['WebId']\n",
    "    \n",
    "\n",
    "#get database WebID\n",
    "\n",
    "data = read_config()\n",
    "databasePath = \"\\\\\\\\\"+ data['AssetServerName'] + \"\\\\\" + data['AssetDatabaseName']\n",
    "databaseWebID = getDatabaseWebID(databasePath)\n",
    "\n",
    "\n",
    "\n",
    "# This query is built for targeting the PI Web API EventFrame Search endpoint.\n",
    "# More information can be found under : https://your-server/piwebapi/help/controllers/eventframe/actions/geteventframesquery\n",
    "# In this particular case, we are looking for 1000 eventframes which are part of VAVCO startup template and which ocurred during\n",
    "# the past year. That explains our query parameters of template, startTime, endTime and maxCount.\n",
    "# Additionally, we are looking for eventframes which have the duration less than 2 hours so that we can count out anamolies for\n",
    "# the purpose of cleaning up our dataset. That is why we decided to use the query feature of the search endpoints.\n",
    "# More information about query syntax can be found here : https://your-server/piwebapi/help/topics/search-query-syntax\n",
    "piwebapi_url = data['Resource']\n",
    "getEFQuery = piwebapi_url + \"/eventframes/search?databaseWebId=\"+\\\n",
    "                databaseWebID + \"&template=VAVCO%20startup&startTime=*-1d&endTime=*+1d&maxCount=1000&query=duration:<2h\"\n",
    "\n",
    "#send GET request to PI Web API\n",
    "response = get(getEFQuery)\n",
    "data = json.loads(response.text)\n",
    "\n",
    "items = data['Items']\n",
    "\n",
    "#initalizing predictor arrays\n",
    "efarray = []\n",
    "setpoint = []\n",
    "percentcooling = []\n",
    "isMonday = []\n",
    "dayofweek = []\n",
    "outsideairtemp = []\n",
    "outsidehumidity = []\n",
    "\n",
    "#target variable\n",
    "duration = []\n",
    "\n",
    "for i in items:\n",
    "    attributes_response = get(i['Links']['Attributes'])\n",
    "    attributes = json.loads(attributes_response.text) #attributes\n",
    "    attribute_items = attributes['Items']\n",
    "\n",
    "    #Add eventframe name to the dataframe\n",
    "    efarray.append(i['Name'])\n",
    "    \n",
    "    #parse Time\n",
    "    startTime = dateutil.parser.parse(i['StartTime'])\n",
    "    endTime = dateutil.parser.parse(i['EndTime'])\n",
    "    \n",
    "    #add target duration in minutes\n",
    "    elapsedTime = endTime-startTime\n",
    "    duration.append(elapsedTime.seconds/60)\n",
    "    \n",
    "    \n",
    "    \n",
    "    for j in attribute_items:\n",
    "        #add predictors to data frame\n",
    "\n",
    "        if j['Name'] == 'Setpoint Offset at start time':\n",
    "            value_response = get(j['Links']['Value'])\n",
    "            setpoint.append(json.loads(value_response.text)['Value'])\n",
    "        if j['Name'] == '% Cooling at VAV Start':\n",
    "            value_response = get(j['Links']['Value'])\n",
    "            percentcooling.append(json.loads(value_response.text)['Value'])\n",
    "        if j['Name'] == 'Outside Relative Humidity at VAV Start':\n",
    "            value_response = get(j['Links']['Value'])\n",
    "            outsidehumidity.append(json.loads(value_response.text)['Value'])\n",
    "        if j['Name'] == 'Outside Air Temperature at VAV Start':\n",
    "            value_response = get(j['Links']['Value'])\n",
    "            outsideairtemp.append(json.loads(value_response.text)['Value'])\n",
    "    \n",
    "    #add IsMonday predictor \n",
    "    if startTime.weekday() == 0:\n",
    "        isMonday.append(1)\n",
    "    else:\n",
    "        isMonday.append(0)\n",
    "    \n",
    "    dayofweek.append(startTime.weekday())\n",
    "        \n",
    "\n",
    "df = pd.DataFrame({\n",
    "    'VAVCO Startup' : efarray,\n",
    "    'Setpoint Offset at start time' : setpoint,\n",
    "    '% Cooling at VAV Start' : percentcooling,\n",
    "    'IsMonday' : isMonday,\n",
    "    'Duration' : duration,\n",
    "    'Day of Week' : dayofweek,\n",
    "    'Outside Relative Humidity at VAV Start' : outsidehumidity,\n",
    "    'Outside Air Temperature at VAV Start' : outsideairtemp\n",
    "})\n",
    "\n",
    "df.head()        "
   ]
  },
  {
   "cell_type": "code",
   "execution_count": 3,
   "metadata": {},
   "outputs": [
    {
     "name": "stdout",
     "output_type": "stream",
     "text": [
      "0.025128280727730212\n"
     ]
    }
   ],
   "source": [
    "X = df[['Outside Air Temperature at VAV Start', 'Outside Relative Humidity at VAV Start']]\n",
    "\n",
    "Y = df['Duration'] \n",
    "    \n",
    "x_train, x_test,y_train,y_test = train_test_split(X,Y,test_size =0.3)\n",
    "\n",
    "\n",
    "#Using Linear Regression\n",
    "regr1 = linear_model.LinearRegression() \n",
    "regr1.fit(x_train, y_train) \n",
    "print(regr1.score(x_test, y_test))"
   ]
  },
  {
   "cell_type": "markdown",
   "metadata": {},
   "source": [
    "# Develop model with better predictors"
   ]
  },
  {
   "cell_type": "code",
   "execution_count": 4,
   "metadata": {
    "scrolled": true
   },
   "outputs": [
    {
     "name": "stdout",
     "output_type": "stream",
     "text": [
      "0.34890771617327876\n"
     ]
    }
   ],
   "source": [
    "X = df[['% Cooling at VAV Start', 'Setpoint Offset at start time', 'IsMonday']]\n",
    "\n",
    "Y = df['Duration'] \n",
    "    \n",
    "x_train, x_test,y_train,y_test = train_test_split(X,Y,test_size =0.3)\n",
    "\n",
    "\n",
    "#Using Linear Regression\n",
    "regr = linear_model.LinearRegression() \n",
    "regr.fit(x_train, y_train) \n",
    "print(regr.score(x_test, y_test))"
   ]
  },
  {
   "cell_type": "markdown",
   "metadata": {},
   "source": [
    "# Phase 2 : Predict for real-time predictors "
   ]
  },
  {
   "cell_type": "code",
   "execution_count": 5,
   "metadata": {},
   "outputs": [
    {
     "name": "stdout",
     "output_type": "stream",
     "text": [
      "[42.64836358]\n",
      "202\n",
      "[58.29999381]\n",
      "202\n"
     ]
    }
   ],
   "source": [
    "def read_config():\n",
    "    with open('test_config.json') as c:\n",
    "        config = json.load(c)\n",
    "    return config\n",
    "\n",
    "data = read_config()\n",
    "\n",
    "# query elements\n",
    "\n",
    "databasePath = \"\\\\\\\\\"+ data['AssetServerName'] + \"\\\\\" + data['AssetDatabaseName']\n",
    "databaseWebID = getDatabaseWebID(databasePath)\n",
    "piwebapi_url = data['Resource']\n",
    "\n",
    "query = piwebapi_url + \"/assetdatabases/\"+ databaseWebID + \"/elements?templateName=VAVCO&searchFullHierarchy=true\"\n",
    "elemResponse = get(query)\n",
    "\n",
    "\n",
    "data = json.loads(elemResponse.text)\n",
    "\n",
    "items = data['Items']\n",
    "\n",
    "for i in items:\n",
    "    attributes_response = get(i['Links']['Attributes'])\n",
    "    attributes = json.loads(attributes_response.text) #attributes\n",
    "    attribute_items = attributes['Items']\n",
    "    \n",
    "    \n",
    "    for j in attribute_items:\n",
    "        if j['Name']== '% cooling':\n",
    "            value_response = get(j['Links']['Value'])\n",
    "            percentcooling = json.loads(value_response.text)['Value']\n",
    "        if j['Name']== 'Setpoint Offset Current':\n",
    "            value_response = get(j['Links']['Value'])\n",
    "            setpoint = json.loads(value_response.text)['Value']\n",
    "    \n",
    "       \n",
    "    if datetime.datetime.now().weekday() == 0:\n",
    "        isMonday = 1\n",
    "    else:\n",
    "        isMonday = 0\n",
    "\n",
    "    \n",
    "    #clean up data: only predict if the value of predictors is greater than 0 and not a dictionary(NODATA case);\n",
    "    \n",
    "    if isinstance(percentcooling, float):\n",
    "        if percentcooling > 0.0:\n",
    "            forecast = regr.predict([[percentcooling, setpoint, isMonday]])\n",
    "            print(forecast)\n",
    "            \n",
    "            # data ingress using pi web api\n",
    "            body = {'Value' : forecast[0]}\n",
    "            for j in attribute_items:        \n",
    "                if j['Name']=='Predicted Cooling Time':\n",
    "                    query = piwebapi_url + \"/streams/\"+ j['WebId']+ \"/value\"\n",
    "                    response = post(query, body)\n",
    "                    print(response.status_code)"
   ]
  },
  {
   "cell_type": "markdown",
   "metadata": {},
   "source": [
    "# Scatter Plots"
   ]
  },
  {
   "cell_type": "code",
   "execution_count": 6,
   "metadata": {},
   "outputs": [
    {
     "data": {
      "text/plain": [
       "<matplotlib.collections.PathCollection at 0x20af997efd0>"
      ]
     },
     "execution_count": 6,
     "metadata": {},
     "output_type": "execute_result"
    },
    {
     "data": {
      "image/png": "[encoded data removed]",
      "text/plain": [
       "<Figure size 432x288 with 1 Axes>"
      ]
     },
     "metadata": {
      "needs_background": "light"
     },
     "output_type": "display_data"
    }
   ],
   "source": [
    "plt.scatter(df['% Cooling at VAV Start'], df['Duration'])"
   ]
  },
  {
   "cell_type": "code",
   "execution_count": 7,
   "metadata": {},
   "outputs": [
    {
     "data": {
      "text/plain": [
       "<matplotlib.collections.PathCollection at 0x20afdb05fa0>"
      ]
     },
     "execution_count": 7,
     "metadata": {},
     "output_type": "execute_result"
    },
    {
     "data": {
      "image/png": "[encoded data removed]",
      "text/plain": [
       "<Figure size 432x288 with 1 Axes>"
      ]
     },
     "metadata": {
      "needs_background": "light"
     },
     "output_type": "display_data"
    }
   ],
   "source": [
    "plt.scatter(df['Setpoint Offset at start time'], df['Duration'])"
   ]
  },
  {
   "cell_type": "code",
   "execution_count": 8,
   "metadata": {},
   "outputs": [
    {
     "data": {
      "image/png": "[encoded data removed]",
      "text/plain": [
       "<Figure size 432x288 with 1 Axes>"
      ]
     },
     "metadata": {
      "needs_background": "light"
     },
     "output_type": "display_data"
    }
   ],
   "source": [
    "plt.scatter(df['Outside Air Temperature at VAV Start'], df['Duration'])\n",
    "global finished\n",
    "finished = True"
   ]
  },
  {
   "cell_type": "code",
   "execution_count": 9,
   "metadata": {},
   "outputs": [],
   "source": [
    "def test_finished():\n",
    "    global finished\n",
    "    \n",
    "    assert finished"
   ]
  }
 ],
 "metadata": {
  "kernelspec": {
   "display_name": "Python 3",
   "language": "python",
   "name": "python3"
  },
  "language_info": {
   "codemirror_mode": {
    "name": "ipython",
    "version": 3
   },
   "file_extension": ".py",
   "mimetype": "text/x-python",
   "name": "python",
   "nbconvert_exporter": "python",
   "pygments_lexer": "ipython3",
   "version": "3.9.2"
  },
  "metadata": {
   "interpreter": {
    "hash": "57baa5815c940fdaff4d14510622de9616cae602444507ba5d0b6727c008cbd6"
   }
  }
 },
 "nbformat": 4,
 "nbformat_minor": 4
}
